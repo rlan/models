{
 "cells": [
  {
   "cell_type": "markdown",
   "metadata": {
    "colab_type": "text",
    "id": "KFPcBuVFw61h"
   },
   "source": [
    "# Cityscapes Inference Demo\n",
    "\n",
    "This demo will demostrate the steps to run deeplab semantic segmentation model on sample input images."
   ]
  },
  {
   "cell_type": "code",
   "execution_count": null,
   "metadata": {
    "cellView": "code",
    "colab": {
     "autoexec": {
      "startup": false,
      "wait_interval": 0
     }
    },
    "colab_type": "code",
    "id": "kAbdmRmvq0Je"
   },
   "outputs": [],
   "source": [
    "#@title Imports\n",
    "\n",
    "from datetime import datetime\n",
    "import os\n",
    "from io import BytesIO\n",
    "import tarfile\n",
    "import tempfile\n",
    "\n",
    "from matplotlib import gridspec\n",
    "from matplotlib import pyplot as plt\n",
    "import numpy as np\n",
    "from PIL import Image\n",
    "\n",
    "import tensorflow as tf"
   ]
  },
  {
   "cell_type": "code",
   "execution_count": null,
   "metadata": {
    "cellView": "code",
    "colab": {
     "autoexec": {
      "startup": false,
      "wait_interval": 0
     }
    },
    "colab_type": "code",
    "id": "vN0kU6NJ1Ye5"
   },
   "outputs": [],
   "source": [
    "#@title Helper methods\n",
    "\n",
    "_DPI = 72\n",
    "_FIG_SIZE = (12.0138, 6.75)\n",
    "\n",
    "class DeepLabModel(object):\n",
    "  \"\"\"Class to load deeplab model and run inference.\"\"\"\n",
    "\n",
    "  INPUT_TENSOR_NAME = 'ImageTensor:0'\n",
    "  OUTPUT_TENSOR_NAME = 'SemanticPredictions:0'\n",
    "  INPUT_SIZE = 1280\n",
    "  FROZEN_GRAPH_NAME = 'frozen_inference_graph'\n",
    "\n",
    "  def __init__(self, trained_model_dir):\n",
    "    \"\"\"Loads pretrained deeplab model.\"\"\"\n",
    "    self.graph = tf.Graph()\n",
    "\n",
    "    file_name = trained_model_dir + self.FROZEN_GRAPH_NAME + '.pb'\n",
    "    #file_name = '/research/deeplab/trained_models/deeplabv3_mnv2_cityscapes_train/frozen_inference_graph.pb'\n",
    "        \n",
    "    with open(file_name, 'rb') as f:\n",
    "      graph_def = tf.GraphDef.FromString(f.read())\n",
    "\n",
    "    with self.graph.as_default():\n",
    "      tf.import_graph_def(graph_def, name='')\n",
    "\n",
    "    self.sess = tf.Session(graph=self.graph)\n",
    "\n",
    "  def run(self, image, verbose=False):\n",
    "    \"\"\"Runs inference on a single image.\n",
    "\n",
    "    Args:\n",
    "      image: A PIL.Image object, raw input image.\n",
    "\n",
    "    Returns:\n",
    "      resized_image: RGB image resized from original input image.\n",
    "      seg_map: Segmentation map of `resized_image`.\n",
    "    \"\"\"\n",
    "    width, height = image.size\n",
    "    if verbose: print(\"image size {}x{}\".format(width, height))\n",
    "    resize_ratio = 1.0 * self.INPUT_SIZE / max(width, height)\n",
    "    target_size = (int(resize_ratio * width), int(resize_ratio * height))\n",
    "    resized_image = image.convert('RGB').resize(target_size, Image.ANTIALIAS)\n",
    "    if verbose: print(\"target size {}\".format(target_size))\n",
    "    batch_seg_map = self.sess.run(\n",
    "        self.OUTPUT_TENSOR_NAME,\n",
    "        feed_dict={self.INPUT_TENSOR_NAME: [np.asarray(resized_image)]})\n",
    "    seg_map = batch_seg_map[0]\n",
    "    return resized_image, seg_map\n",
    "\n",
    "\n",
    "def create_cityscapes_label_colormap():\n",
    "  \"\"\"Creates a label colormap used in CITYSCAPES segmentation benchmark.\n",
    "\n",
    "  Returns:\n",
    "    A colormap for visualizing segmentation results.\n",
    "  \"\"\"\n",
    "  return np.asarray([\n",
    "      [128, 64, 128],\n",
    "      [244, 35, 232],\n",
    "      [70, 70, 70],\n",
    "      [102, 102, 156],\n",
    "      [190, 153, 153],\n",
    "      [153, 153, 153],\n",
    "      [250, 170, 30],\n",
    "      [220, 220, 0],\n",
    "      [107, 142, 35],\n",
    "      [152, 251, 152],\n",
    "      [70, 130, 180],\n",
    "      [220, 20, 60],\n",
    "      [255, 0, 0],\n",
    "      [0, 0, 142],\n",
    "      [0, 0, 70],\n",
    "      [0, 60, 100],\n",
    "      [0, 80, 100],\n",
    "      [0, 0, 230],\n",
    "      [119, 11, 32],\n",
    "  ])\n",
    "\n",
    "\n",
    "def label_to_color_image(label):\n",
    "  \"\"\"Adds color defined by the dataset colormap to the label.\n",
    "\n",
    "  Args:\n",
    "    label: A 2D array with integer type, storing the segmentation label.\n",
    "\n",
    "  Returns:\n",
    "    result: A 2D array with floating type. The element of the array\n",
    "      is the color indexed by the corresponding element in the input label\n",
    "      to the PASCAL color map.\n",
    "\n",
    "  Raises:\n",
    "    ValueError: If label is not of rank 2 or its value is larger than color\n",
    "      map maximum entry.\n",
    "  \"\"\"\n",
    "  if label.ndim != 2:\n",
    "    raise ValueError('Expect 2-D input label')\n",
    "\n",
    "  colormap = create_cityscapes_label_colormap()\n",
    "\n",
    "  if np.max(label) >= len(colormap):\n",
    "    raise ValueError('label value too large.')\n",
    "\n",
    "  return colormap[label]\n",
    "\n",
    "\n",
    "def vis_segmentation(image, seg_map):\n",
    "  \"\"\"Visualizes input image, segmentation map and overlay view.\"\"\"\n",
    "  plt.figure(figsize=(36, 12))\n",
    "  grid_spec = gridspec.GridSpec(1, 4, width_ratios=[6, 6, 6, 1])\n",
    "\n",
    "  plt.subplot(grid_spec[0])\n",
    "  plt.imshow(image)\n",
    "  plt.axis('off')\n",
    "  plt.title('input image')\n",
    "\n",
    "  plt.subplot(grid_spec[1])\n",
    "  seg_image = label_to_color_image(seg_map).astype(np.uint8)\n",
    "  plt.imshow(seg_image)\n",
    "  plt.axis('off')\n",
    "  plt.title('segmentation map')\n",
    "\n",
    "  plt.subplot(grid_spec[2])\n",
    "  plt.imshow(image)\n",
    "  plt.imshow(seg_image, alpha=0.7)\n",
    "  plt.axis('off')\n",
    "  plt.title('segmentation overlay')\n",
    "\n",
    "  unique_labels = np.unique(seg_map)\n",
    "  ax = plt.subplot(grid_spec[3])\n",
    "  plt.imshow(\n",
    "      FULL_COLOR_MAP[unique_labels].astype(np.uint8), interpolation='nearest')\n",
    "  ax.yaxis.tick_right()\n",
    "  plt.yticks(range(len(unique_labels)), LABEL_NAMES[unique_labels])\n",
    "  plt.xticks([], [])\n",
    "  ax.tick_params(width=0.0)\n",
    "  plt.grid('off')\n",
    "  plt.show()\n",
    "\n",
    "\n",
    "# Cityscapes labels\n",
    "LABEL_NAMES = np.asarray([\n",
    "    'road', \n",
    "    'sidewalk', \n",
    "    'building',\n",
    "    'wall',\n",
    "    'fence',\n",
    "    'pole',\n",
    "    'traffic light',\n",
    "    'traffic sign',\n",
    "    'vegetation',\n",
    "    'terrain',\n",
    "    'sky',\n",
    "    'person',\n",
    "    'rider',\n",
    "    'car',\n",
    "    'truck',\n",
    "    'bus',\n",
    "    'train',\n",
    "    'motorcycle',\n",
    "    'bicycle',\n",
    "])\n",
    "print('Number of labels: {}'.format(len(LABEL_NAMES)))\n",
    "\n",
    "\n",
    "FULL_LABEL_MAP = np.arange(len(LABEL_NAMES)).reshape(len(LABEL_NAMES), 1)\n",
    "FULL_COLOR_MAP = label_to_color_image(FULL_LABEL_MAP)"
   ]
  },
  {
   "cell_type": "code",
   "execution_count": null,
   "metadata": {
    "colab": {
     "autoexec": {
      "startup": false,
      "wait_interval": 0
     }
    },
    "colab_type": "code",
    "id": "c4oXKmnjw6i_"
   },
   "outputs": [],
   "source": [
    "#@title Select and download models {display-mode: \"form\"}\n",
    "\n",
    "MODEL_NAME = 'xception71_dpc_cityscapes_trainfine'  # @param ['mobilenetv2_coco_cityscapes_trainfine', 'xception65_cityscapes_trainfine', 'xception71_dpc_cityscapes_trainfine', 'xception71_dpc_cityscapes_trainval']\n",
    "\n",
    "'''\n",
    "_DOWNLOAD_URL_PREFIX = 'http://download.tensorflow.org/models/'\n",
    "_MODEL_URLS = {\n",
    "    'mobilenetv2_coco_cityscapes_trainfine':\n",
    "        'deeplabv3_mnv2_cityscapes_train_2018_02_05.tar.gz',\n",
    "    'xception65_cityscapes_trainfine':\n",
    "        'deeplabv3_cityscapes_train_2018_02_06.tar.gz',\n",
    "    'xception71_dpc_cityscapes_trainfine':\n",
    "        'deeplab_cityscapes_xception71_trainfine_2018_09_08.tar.gz',\n",
    "    'xception71_dpc_cityscapes_trainval':\n",
    "        'deeplab_cityscapes_xception71_trainvalfine_2018_09_08.tar.gz',    \n",
    "}\n",
    "'''\n",
    "\n",
    "# Extract above pre-trained model tar.gz files to the following folder.\n",
    "_PROJECT_DIR = '/home/ritpower/rick/deeplab/trained_models/'\n",
    "_MODEL_DIR = {\n",
    "    'mobilenetv2_coco_cityscapes_trainfine':\n",
    "        'deeplabv3_mnv2_cityscapes_train',\n",
    "    'xception65_cityscapes_trainfine':\n",
    "        'deeplabv3_cityscapes_train',\n",
    "    'xception71_dpc_cityscapes_trainfine':\n",
    "        'train_fine',\n",
    "    'xception71_dpc_cityscapes_trainval':\n",
    "        'trainval_fine',\n",
    "}\n",
    "\n",
    "model_path = _PROJECT_DIR + _MODEL_DIR[MODEL_NAME] + '/'\n",
    "print('model_path: {}'.format(model_path))\n",
    "\n",
    "MODEL = DeepLabModel(model_path)\n",
    "print('model loaded successfully!')"
   ]
  },
  {
   "cell_type": "markdown",
   "metadata": {
    "colab_type": "text",
    "id": "SZst78N-4OKO"
   },
   "source": [
    "## Run on sample images\n",
    "\n",
    "Select one of sample images (leave `IMAGE_URL` empty) or feed any internet image\n",
    "url for inference.\n",
    "\n",
    "Note that we are using single scale inference in the demo for fast computation,\n",
    "so the results may slightly differ from the visualizations in\n",
    "[README](https://github.com/tensorflow/models/blob/master/research/deeplab/README.md),\n",
    "which uses multi-scale and left-right flipped inputs."
   ]
  },
  {
   "cell_type": "code",
   "execution_count": null,
   "metadata": {
    "colab": {
     "autoexec": {
      "startup": false,
      "wait_interval": 0
     }
    },
    "colab_type": "code",
    "id": "7XrFNGsxzSIB"
   },
   "outputs": [],
   "source": [
    "def save_vis(image, seg_map, file_name):\n",
    "  print(\"type(image) {}\".format(type(image)))\n",
    "  print(\"type(seg_map) {}\".format(type(seg_map)))\n",
    "  print(\"seg_map.shape {}\".format(seg_map.shape))\n",
    "  seg_image = label_to_color_image(seg_map).astype(np.uint8)\n",
    "  print(\"type(seg_image) {}\".format(type(seg_image)))\n",
    "  print(\"seg_image.shape {}\".format(seg_image.shape))\n",
    "  fig = plt.figure(figsize=_FIG_SIZE)\n",
    "  plt.imshow(image)\n",
    "  plt.imshow(seg_image, alpha=0.7)\n",
    "  plt.axis('off')\n",
    "  plt.grid('off')\n",
    "  print(\"Writing to {}\".format(file_name))\n",
    "  plt.savefig(file_name, dpi=_DPI, bbox_inches='tight')\n",
    "  plt.close(fig)\n",
    "    \n",
    "  im = np.asarray(image)\n",
    "  print(\"type(im) {}\".format(type(im)))\n",
    "  print(\"im.shape {}\".format(im.shape))\n",
    "\n",
    "def nparray_info(x):\n",
    "    print(\"shape {} dtype {} max {} min {}\".format(x.shape, x.dtype, np.amax(x), np.amin(x)))\n",
    "    \n",
    "def pillow_info(x):\n",
    "    print(\"mode {} size {}\".format(x.mode, x.size))\n",
    "    \n",
    "def save_vis_jpg(image, seg_map, file_name, verbose=False):\n",
    "    if verbose: print(\"save_vis_jpg\")\n",
    "    if verbose: print(\"type(seg_map) {}\".format(type(seg_map)))\n",
    "    if verbose: nparray_info(seg_map)\n",
    "    seg_image = label_to_color_image(seg_map).astype(np.uint8)\n",
    "    if verbose: nparray_info(seg_image)\n",
    "    seg_image = Image.fromarray(np.uint8(seg_image))\n",
    "    if verbose: pillow_info(image)\n",
    "    if verbose: pillow_info(seg_image)\n",
    "    blended = Image.blend(image, seg_image, alpha=0.6)\n",
    "    blended.save(file_name, 'JPEG', quality=80)"
   ]
  },
  {
   "cell_type": "code",
   "execution_count": null,
   "metadata": {
    "colab": {
     "autoexec": {
      "startup": false,
      "wait_interval": 0
     }
    },
    "colab_type": "code",
    "id": "edGukUHXyymr"
   },
   "outputs": [],
   "source": [
    "#@title Run on sample images {display-mode: \"form\"}\n",
    "\n",
    "FILE = '/home/ritpower/rick/deeplab/0033.jpg'\n",
    "OUT_FILE = '/home/ritpower/rick/deeplab/0033.overlay.jpg'\n",
    "\n",
    "def run_visualization(file_name, out_file, verbose=False):\n",
    "  \"\"\"Inferences DeepLab model and visualizes result.\"\"\"\n",
    "  with open(file_name, 'rb') as f:\n",
    "    jpeg_str = f.read()\n",
    "    original_im = Image.open(BytesIO(jpeg_str))\n",
    "\n",
    "  if verbose: print('running deeplab on image %s...' % file_name)\n",
    "  t0 = datetime.now()\n",
    "  resized_im, seg_map = MODEL.run(original_im)\n",
    "  if verbose: print(\"Infered in {} seconds\".format((datetime.now()-t0).total_seconds()))\n",
    "\n",
    "  if verbose: print('running visualization...')\n",
    "  if verbose: vis_segmentation(resized_im, seg_map)\n",
    "    \n",
    "  #save_vis(resized_im, seg_map, out_file)\n",
    "  save_vis_jpg(resized_im, seg_map, out_file)\n"
   ]
  },
  {
   "cell_type": "code",
   "execution_count": null,
   "metadata": {},
   "outputs": [],
   "source": [
    "run_visualization(FILE, OUT_FILE)"
   ]
  },
  {
   "cell_type": "code",
   "execution_count": null,
   "metadata": {},
   "outputs": [],
   "source": [
    "INPUT_DIR = '/home/ritpower/rick/deeplab/data/'\n",
    "OUTPUT_DIR = '/home/ritpower/rick/deeplab/data_out/'\n",
    "import glob\n",
    "all_files = glob.glob(INPUT_DIR + \"*.jpg\")\n",
    "len(all_files)\n"
   ]
  },
  {
   "cell_type": "code",
   "execution_count": null,
   "metadata": {},
   "outputs": [],
   "source": [
    "print(all_files[0])\n",
    "print(os.path.basename(all_files[0]))\n",
    "print(os.path.dirname(all_files[0]))"
   ]
  },
  {
   "cell_type": "code",
   "execution_count": null,
   "metadata": {},
   "outputs": [],
   "source": [
    "for f in all_files:\n",
    "    out_f = OUTPUT_DIR + os.path.basename(f)\n",
    "    #print(out_f)\n",
    "    run_visualization(f, out_f)"
   ]
  },
  {
   "cell_type": "code",
   "execution_count": null,
   "metadata": {},
   "outputs": [],
   "source": []
  }
 ],
 "metadata": {
  "colab": {
   "collapsed_sections": [],
   "default_view": {},
   "name": "DeepLab Demo.ipynb",
   "provenance": [],
   "version": "0.3.2",
   "views": {}
  },
  "kernelspec": {
   "display_name": "Python 3",
   "language": "python",
   "name": "python3"
  },
  "language_info": {
   "codemirror_mode": {
    "name": "ipython",
    "version": 3
   },
   "file_extension": ".py",
   "mimetype": "text/x-python",
   "name": "python",
   "nbconvert_exporter": "python",
   "pygments_lexer": "ipython3",
   "version": "3.6.8"
  }
 },
 "nbformat": 4,
 "nbformat_minor": 2
}
